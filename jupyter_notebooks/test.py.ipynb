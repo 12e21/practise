{
 "cells": [
  {
   "cell_type": "code",
   "execution_count": 8,
   "metadata": {},
   "outputs": [
    {
     "name": "stdout",
     "output_type": "stream",
     "text": [
      "tensor([[0.7684, 0.9384, 0.4119, 0.0512, 0.9775],\n",
      "        [0.0637, 0.1123, 0.6853, 0.5237, 0.5644],\n",
      "        [0.8175, 0.1421, 0.5182, 0.8544, 0.0317]])\n"
     ]
    }
   ],
   "source": [
    "import torch\n",
    "import numpy as np\n",
    "\n",
    "# x = torch.empty(3, 2)\n",
    "x = torch.rand(3, 5)\n",
    "# x = torch.zeros(3, 2)\n",
    "# x = torch.tensor([[1.],[1.],[1.]])\n",
    "# print(x)\n",
    "# print(x.size())\n",
    "\n",
    "'''\n",
    "y=x.view(-1,1)\n",
    "print(x)\n",
    "print(y)\n",
    "print(y[0,0].item())\n",
    "'''\n",
    "\n",
    "'''\n",
    "print(x)\n",
    "print(x.numpy())\n",
    "b=x.numpy()\n",
    "x.add_(1.)\n",
    "print(x)\n",
    "print(x.numpy())\n",
    "'''\n",
    "\n",
    "'''\n",
    "x=np.random.randn(3,3)\n",
    "y=torch.from_numpy(x)\n",
    "print(x)\n",
    "print(y)\n",
    "x+=1.\n",
    "print(x)\n",
    "print(y)\n",
    "'''\n",
    "\n",
    "'''\n",
    "if torch.cuda.is_available():\n",
    "    device=torch.device(\"cuda\")\n",
    "    y=x.to(device)\n",
    "    print(y)\n",
    "    print(y.to(\"cpu\"))\n",
    "'''\n",
    "\n",
    "\n",
    "\n",
    "\n",
    "\n",
    "print(x)"
   ]
  },
  {
   "cell_type": "code",
   "execution_count": null,
   "metadata": {},
   "outputs": [],
   "source": []
  },
  {
   "cell_type": "code",
   "execution_count": null,
   "metadata": {},
   "outputs": [],
   "source": []
  }
 ],
 "metadata": {
  "kernelspec": {
   "display_name": "Python 3",
   "language": "python",
   "name": "python3"
  },
  "language_info": {
   "codemirror_mode": {
    "name": "ipython",
    "version": 3
   },
   "file_extension": ".py",
   "mimetype": "text/x-python",
   "name": "python",
   "nbconvert_exporter": "python",
   "pygments_lexer": "ipython3",
   "version": "3.8.3"
  }
 },
 "nbformat": 4,
 "nbformat_minor": 4
}
