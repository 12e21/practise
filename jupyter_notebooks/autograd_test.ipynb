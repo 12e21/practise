{
 "cells": [
  {
   "cell_type": "code",
   "execution_count": 15,
   "metadata": {},
   "outputs": [
    {
     "name": "stdout",
     "output_type": "stream",
     "text": [
      "tensor([[-0.1615, -0.0007, -0.2306],\n",
      "        [-0.1745, -0.0018, -0.1610],\n",
      "        [-0.4711, -0.0204, -0.0160]])\n"
     ]
    }
   ],
   "source": [
    "import torch\n",
    "x=torch.rand(3,3,requires_grad=True)\n",
    "y=torch.rand(3,3,requires_grad=True)\n",
    "m=torch.rand(3,3,requires_grad=True)\n",
    "n=torch.rand(3,3,requires_grad=True)\n",
    "\n",
    "z=x**2+y**2\n",
    "q=m-n\n",
    "\n",
    "o=q**3-z\n",
    "\n",
    "o.backward(torch.rand(3,3,requires_grad=True))\n",
    "print(n.grad)"
   ]
  },
  {
   "cell_type": "code",
   "execution_count": null,
   "metadata": {},
   "outputs": [],
   "source": []
  }
 ],
 "metadata": {
  "kernelspec": {
   "display_name": "Python 3",
   "language": "python",
   "name": "python3"
  },
  "language_info": {
   "codemirror_mode": {
    "name": "ipython",
    "version": 3
   },
   "file_extension": ".py",
   "mimetype": "text/x-python",
   "name": "python",
   "nbconvert_exporter": "python",
   "pygments_lexer": "ipython3",
   "version": "3.8.3"
  }
 },
 "nbformat": 4,
 "nbformat_minor": 4
}
